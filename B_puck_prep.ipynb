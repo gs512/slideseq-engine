{
 "cells": [
  {
   "cell_type": "code",
   "execution_count": 1,
   "id": "0b021a2b",
   "metadata": {
    "scrolled": true
   },
   "outputs": [
    {
     "name": "stderr",
     "output_type": "stream",
     "text": [
      "\n",
      " 次のパッケージを付け加えます: ‘dplyr’ \n",
      "\n",
      "\n",
      " 以下のオブジェクトは ‘package:stats’ からマスクされています: \n",
      "\n",
      "     filter, lag \n",
      "\n",
      "\n",
      " 以下のオブジェクトは ‘package:base’ からマスクされています: \n",
      "\n",
      "     intersect, setdiff, setequal, union \n",
      "\n",
      "\n",
      "\n",
      " 次のパッケージを付け加えます: ‘data.table’ \n",
      "\n",
      "\n",
      " 以下のオブジェクトは ‘package:reshape2’ からマスクされています: \n",
      "\n",
      "     dcast, melt \n",
      "\n",
      "\n",
      " 以下のオブジェクトは ‘package:dplyr’ からマスクされています: \n",
      "\n",
      "     between, first, last \n",
      "\n",
      "\n"
     ]
    }
   ],
   "source": [
    "library(Seurat)\n",
    "library(ggplot2)\n",
    "library(dplyr)\n",
    "library(reshape2)\n",
    "library(cowplot)\n",
    "library(spacexr)\n",
    "library(data.table)\n",
    "`%ni%` = Negate(`%in%`)\n",
    "source('helper.R')"
   ]
  },
  {
   "cell_type": "code",
   "execution_count": 2,
   "id": "fff77afb",
   "metadata": {},
   "outputs": [],
   "source": [
    "puck_rctd = load_pucks()"
   ]
  },
  {
   "cell_type": "code",
   "execution_count": 3,
   "id": "dba7f791",
   "metadata": {},
   "outputs": [],
   "source": [
    "puck_pls = lapply(names(puck_rctd),function(n){\n",
    "\n",
    "    my_pl = puck_rctd[[n]]@coords\n",
    "    my_pl[,'inc'] = F\n",
    "    my_pl[,'nUMI'] = puck_rctd[[n]]@nUMI\n",
    "    sel_genes = c('Cplx3','Sst','Snap25','Fcrls','Car3')\n",
    "    my_pl[,sel_genes] = colSums(puck_rctd[[n]]@counts[sel_genes,])\n",
    "    for(g in sel_genes){\n",
    "    my_pl[,g] = scale(log1p(100000*puck_rctd[[n]]@counts[g,]/sum(puck_rctd[[n]]@counts[g,])))\n",
    "    }\n",
    "\n",
    "    my_pl[,'Sst_umi'] = puck_rctd[[n]]@counts['Sst',]\n",
    "    return(my_pl)\n",
    "})\n",
    "\n",
    "names(puck_pls) = names(puck_rctd)"
   ]
  },
  {
   "cell_type": "code",
   "execution_count": 4,
   "id": "27eed0f7",
   "metadata": {},
   "outputs": [],
   "source": [
    "for(x in names(puck_pls)){\n",
    "    write.csv(puck_pls[[x]],file=paste0('./1_ANALYSIS/PL/',x,'_pl.csv'))\n",
    "}"
   ]
  }
 ],
 "metadata": {
  "kernelspec": {
   "display_name": "R",
   "language": "R",
   "name": "ir"
  },
  "language_info": {
   "codemirror_mode": "r",
   "file_extension": ".r",
   "mimetype": "text/x-r-source",
   "name": "R",
   "pygments_lexer": "r",
   "version": "4.1.1"
  }
 },
 "nbformat": 4,
 "nbformat_minor": 5
}
