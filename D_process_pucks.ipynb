{
 "cells": [
  {
   "cell_type": "code",
   "execution_count": 12,
   "id": "0b021a2b",
   "metadata": {},
   "outputs": [],
   "source": [
    "library(Seurat)\n",
    "library(ggplot2)\n",
    "library(dplyr)\n",
    "library(reshape2)\n",
    "library(cowplot)\n",
    "library(spacexr)\n",
    "library(data.table)\n",
    "`%ni%` = Negate(`%in%`)\n",
    "source('helper.R')"
   ]
  },
  {
   "cell_type": "code",
   "execution_count": 10,
   "id": "322aa941",
   "metadata": {},
   "outputs": [],
   "source": [
    "restricted_pucks = load_restricted_pucks()"
   ]
  },
  {
   "cell_type": "code",
   "execution_count": 13,
   "id": "538b3500",
   "metadata": {},
   "outputs": [],
   "source": [
    "processed_pucks = process_pucks(restricted_pucks, F)"
   ]
  },
  {
   "cell_type": "code",
   "execution_count": null,
   "id": "48ecd884",
   "metadata": {},
   "outputs": [],
   "source": [
    "pldfs = list()\n",
    "for(p in names(processed_pucks)){\n",
    "    pldfs[[p]] = build_pl_df(processed_pucks[[p]]@results$results_df, processed_pucks[[p]]@spatialRNA@coords)\n",
    "    write.csv(pldfs[[p]],file=paste0('./1_ANALYSIS/PLDF/',p,'_pldf.csv'))  \n",
    "}"
   ]
  }
 ],
 "metadata": {
  "kernelspec": {
   "display_name": "R",
   "language": "R",
   "name": "ir"
  },
  "language_info": {
   "codemirror_mode": "r",
   "file_extension": ".r",
   "mimetype": "text/x-r-source",
   "name": "R",
   "pygments_lexer": "r",
   "version": "4.1.1"
  }
 },
 "nbformat": 4,
 "nbformat_minor": 5
}
